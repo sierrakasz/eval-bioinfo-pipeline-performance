{
 "cells": [
  {
   "cell_type": "code",
   "execution_count": null,
   "metadata": {},
   "outputs": [],
   "source": [
    "# important SOP https://www.mothur.org/wiki/MiSeq_SOP"
   ]
  },
  {
   "cell_type": "code",
   "execution_count": null,
   "metadata": {},
   "outputs": [],
   "source": [
    "# cd into your home directory\n",
    "cd ~/"
   ]
  },
  {
   "cell_type": "code",
   "execution_count": null,
   "metadata": {},
   "outputs": [],
   "source": [
    "%install_ext https://raw.githubusercontent.com/SchlossLab/ipython-mothurmagic/master/mothurmagic.py"
   ]
  },
  {
   "cell_type": "code",
   "execution_count": null,
   "metadata": {},
   "outputs": [],
   "source": [
    "%load_ext mothurmagic"
   ]
  },
  {
   "cell_type": "code",
   "execution_count": null,
   "metadata": {},
   "outputs": [],
   "source": [
    "# Getting Started- Check the Stability File\n",
    "%%mothur\n",
    "make.file(inputdir=MiSeq_SOP, type=fastq, prefix=stability)"
   ]
  },
  {
   "cell_type": "code",
   "execution_count": null,
   "metadata": {},
   "outputs": [],
   "source": [
    "#Reducing sequencing and PCR errors\n",
    "%%mothur\n",
    "make.contigs(file=stability.files.txt, processors=8)\n",
    "summary.seqs(fasta=stability.trim.contigs.fasta)\n",
    "screen.seqs(fasta=stability.trim.contigs.fasta, group=stability.contigs.groups, maxlength=275)"
   ]
  },
  {
   "cell_type": "code",
   "execution_count": null,
   "metadata": {},
   "outputs": [],
   "source": [
    "# Processing improved sequences\n",
    "unique.seqs(fasta=stability.trim.contigs.good.fasta)\n",
    "count.seqs(name=stability.trim.contigs.good.names, group=stability.contigs.good.groups)\n",
    "summary.seqs(count=stability.trim.contigs.good.count_table)\n",
    "pcr.seqs(fasta=silva.nr_v132.align, start=11894, end=25319, keepdots=F, processors=8)\n",
    "rename.file(input=silva.nr_v132.pcr.align, new=silva.v4.132.fasta)\n",
    "summary.seqs(fasta=silva.v4.132.fasta)\n",
    "align.seqs(fasta=stability.trim.contigs.good.unique.fasta, reference=silva.v4.132.fasta)\n",
    "summary.seqs(fasta=stability.trim.contigs.good.unique.align, count=stability.trim.contigs.good.count_table)\n",
    "screen.seqs(fasta=stability.trim.contigs.good.unique.align, count=stability.trim.contigs.good.count_table, summary=stability.trim.contigs.good.unique.summary, start=1968, end=11550, maxhomop=8)\n",
    "summary.seqs(fasta=current, count=current)\n",
    "filter.seqs(fasta=stability.trim.contigs.good.unique.good.align, vertical=T, trump=.)\n",
    "unique.seqs(fasta=stability.trim.contigs.good.unique.good.filter.fasta, count=stability.trim.contigs.good.good.count_table)\n",
    "pre.cluster(fasta=stability.trim.contigs.good.unique.good.filter.unique.fasta, count=stability.trim.contigs.good.unique.good.filter.count_table, diffs=2)\n",
    "chimera.vsearch(fasta=stability.trim.contigs.good.unique.good.filter.unique.precluster.fasta, count=stability.trim.contigs.good.unique.good.filter.unique.precluster.count_table, dereplicate=t)\n",
    "remove.seqs(fasta=stability.trim.contigs.good.unique.good.filter.unique.precluster.fasta, accnos=stability.trim.contigs.good.unique.good.filter.unique.precluster.denovo.vsearch.accnos)\n",
    "summary.seqs(fasta=current, count=current)"
   ]
  },
  {
   "cell_type": "code",
   "execution_count": null,
   "metadata": {},
   "outputs": [],
   "source": [
    "# Phylotype\n",
    "phylotype(taxonomy=stability.trim.contigs.good.unique.good.filter.unique.precluster.pick.nr_v132.wang.pick.taxonomy)\n",
    "make.shared(list=stability.trim.contigs.good.unique.good.filter.unique.precluster.pick.nr_v132.wang.pick.tx.list, count=stability.trim.contigs.good.unique.good.filter.unique.precluster.denovo.vsearch.pick.pick.count_table, label=1)\n",
    "classify.otu(list=stability.trim.contigs.good.unique.good.filter.unique.precluster.pick.nr_v132.wang.pick.tx.list, count=stability.trim.contigs.good.unique.good.filter.unique.precluster.denovo.vsearch.pick.pick.count_table, taxonomy=stability.trim.contigs.good.unique.good.filter.unique.precluster.pick.nr_v132.wang.pick.taxonomy, label=1)"
   ]
  }
 ],
 "metadata": {
  "kernelspec": {
   "display_name": "Python 3",
   "language": "python",
   "name": "python3"
  },
  "language_info": {
   "codemirror_mode": {
    "name": "ipython",
    "version": 3
   },
   "file_extension": ".py",
   "mimetype": "text/x-python",
   "name": "python",
   "nbconvert_exporter": "python",
   "pygments_lexer": "ipython3",
   "version": "3.6.5"
  }
 },
 "nbformat": 4,
 "nbformat_minor": 2
}
