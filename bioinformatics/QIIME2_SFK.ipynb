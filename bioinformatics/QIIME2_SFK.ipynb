{
 "cells": [
  {
   "cell_type": "code",
   "execution_count": 1,
   "metadata": {},
   "outputs": [
    {
     "name": "stdout",
     "output_type": "stream",
     "text": [
      "Populating the interactive namespace from numpy and matplotlib\n"
     ]
    }
   ],
   "source": [
    "%pylab inline"
   ]
  },
  {
   "cell_type": "code",
   "execution_count": 2,
   "metadata": {},
   "outputs": [
    {
     "name": "stdout",
     "output_type": "stream",
     "text": [
      "/home/qiime2/Documents/Subthirty\n"
     ]
    }
   ],
   "source": [
    "#cd into your home directory\n",
    "cd ~/"
   ]
  },
  {
   "cell_type": "code",
   "execution_count": 9,
   "metadata": {},
   "outputs": [
    {
     "name": "stdout",
     "output_type": "stream",
     "text": [
      "Start\n",
      "\u001b[32mSaved Visualization to: demux-paired-end.qzv\u001b[0m\n"
     ]
    }
   ],
   "source": [
    "print(\"Start\")\n",
    "#make sure your raw sequence files are in a directory named Raw\n",
    "#see input-path\n",
    "!qiime tools import \\\n",
    "  --type 'SampleData[PairedEndSequencesWithQuality]' \\\n",
    "  --input-path Raw \\\n",
    "  --input-format CasavaOneEightSingleLanePerSampleDirFmt \\\n",
    "  --output-path demux-paired-end.qza\n",
    "!qiime demux summarize \\\n",
    "  --i-data demux-paired-end.qza \\\n",
    "  --o-visualization demux-paired-end.qzv"
   ]
  },
  {
   "cell_type": "code",
   "execution_count": 4,
   "metadata": {},
   "outputs": [
    {
     "name": "stdout",
     "output_type": "stream",
     "text": [
      "Dada2\n",
      "\u001b[32mSaved FeatureTable[Frequency] to: table-dada2.qza\u001b[0m\n",
      "\u001b[32mSaved FeatureData[Sequence] to: rep-seqs-dada2.qza\u001b[0m\n",
      "\u001b[32mSaved SampleData[DADA2Stats] to: stats-dada2.qza\u001b[0m\n"
     ]
    }
   ],
   "source": [
    "print(\"Dada2\")\n",
    "!qiime dada2 denoise-paired \\\n",
    "  --i-demultiplexed-seqs demux-paired-end.qza \\\n",
    "  --o-representative-sequences rep-seqs-dada2.qza \\\n",
    "  --o-table table-dada2.qza \\\n",
    "  --o-denoising-stats stats-dada2.qza\\\n",
    "  --p-trunc-len-r 195\\\n",
    "  --p-trunc-len-f 215\\\n",
    "  --p-chimera-method none\\\n",
    "  --p-n-threads 0\n",
    "!mv rep-seqs-dada2.qza rep-seqs.qza\n",
    "!mv table-dada2.qza table.qza"
   ]
  },
  {
   "cell_type": "code",
   "execution_count": 5,
   "metadata": {},
   "outputs": [
    {
     "name": "stdout",
     "output_type": "stream",
     "text": [
      "Feature tables\n",
      "\u001b[32mSaved Visualization to: table.qzv\u001b[0m\n",
      "\u001b[32mSaved Visualization to: rep-seqs.qzv\u001b[0m\n"
     ]
    }
   ],
   "source": [
    "print(\"Feature tables\")\n",
    "#Make sure the metadata file is in the directory\n",
    "!qiime feature-table summarize \\\n",
    "  --i-table table.qza \\\n",
    "  --o-visualization table.qzv \\\n",
    "  --m-sample-metadata-file HPMMMeta.txt\n",
    "!qiime feature-table tabulate-seqs \\\n",
    "  --i-data rep-seqs.qza \\\n",
    "  --o-visualization rep-seqs.qzv"
   ]
  },
  {
   "cell_type": "code",
   "execution_count": 6,
   "metadata": {},
   "outputs": [
    {
     "name": "stdout",
     "output_type": "stream",
     "text": [
      "Uchime\n",
      "\u001b[32mSaved FeatureData[Sequence] to: uchime-dn-out/chimeras.qza\u001b[0m\n",
      "\u001b[32mSaved FeatureData[Sequence] to: uchime-dn-out/nonchimeras.qza\u001b[0m\n",
      "\u001b[32mSaved UchimeStats to: uchime-dn-out/stats.qza\u001b[0m\n"
     ]
    }
   ],
   "source": [
    "print(\"Uchime\")\n",
    "!qiime vsearch uchime-denovo \\\n",
    "  --i-table table.qza \\\n",
    "  --i-sequences rep-seqs.qza \\\n",
    "  --output-dir uchime-dn-out"
   ]
  },
  {
   "cell_type": "code",
   "execution_count": 7,
   "metadata": {},
   "outputs": [
    {
     "name": "stdout",
     "output_type": "stream",
     "text": [
      "Uchime visual\n",
      "\u001b[32mSaved Visualization to: uchime-dn-out/stats.qzv\u001b[0m\n"
     ]
    }
   ],
   "source": [
    "print(\"Uchime visual\")\n",
    "!qiime metadata tabulate \\\n",
    "  --m-input-file uchime-dn-out/stats.qza \\\n",
    "  --o-visualization uchime-dn-out/stats.qzv"
   ]
  },
  {
   "cell_type": "code",
   "execution_count": 8,
   "metadata": {},
   "outputs": [
    {
     "name": "stdout",
     "output_type": "stream",
     "text": [
      "\u001b[32mSaved FeatureTable[Frequency] to: uchime-dn-out/table-nonchimeric-wo-borderline.qza\u001b[0m\n",
      "\u001b[32mSaved FeatureData[Sequence] to: uchime-dn-out/rep-seqs-nonchimeric-wo-borderline.qza\u001b[0m\n",
      "\u001b[32mSaved Visualization to: uchime-dn-out/table-nonchimeric-wo-borderline.qzv\u001b[0m\n"
     ]
    }
   ],
   "source": [
    "!qiime feature-table filter-features \\\n",
    "  --i-table table.qza \\\n",
    "  --m-metadata-file uchime-dn-out/nonchimeras.qza \\\n",
    "  --o-filtered-table uchime-dn-out/table-nonchimeric-wo-borderline.qza\n",
    "!qiime feature-table filter-seqs \\\n",
    "  --i-data rep-seqs.qza \\\n",
    "  --m-metadata-file uchime-dn-out/nonchimeras.qza \\\n",
    "  --o-filtered-data uchime-dn-out/rep-seqs-nonchimeric-wo-borderline.qza\n",
    "!qiime feature-table summarize \\\n",
    "  --i-table uchime-dn-out/table-nonchimeric-wo-borderline.qza \\\n",
    "  --o-visualization uchime-dn-out/table-nonchimeric-wo-borderline.qzv"
   ]
  },
  {
   "cell_type": "code",
   "execution_count": 9,
   "metadata": {},
   "outputs": [],
   "source": [
    "!mv uchime-dn-out/rep-seqs-nonchimeric-wo-borderline.qza rep-seqs.qza\n",
    "!mv uchime-dn-out/table-nonchimeric-wo-borderline.qza table.qza"
   ]
  },
  {
   "cell_type": "code",
   "execution_count": 10,
   "metadata": {},
   "outputs": [
    {
     "name": "stdout",
     "output_type": "stream",
     "text": [
      "Aligning\n",
      "\u001b[32mSaved FeatureData[AlignedSequence] to: aligned-rep-seqs.qza\u001b[0m\n",
      "\u001b[32mSaved FeatureData[AlignedSequence] to: masked-aligned-rep-seqs.qza\u001b[0m\n"
     ]
    }
   ],
   "source": [
    "print(\"Aligning\")\n",
    "!qiime alignment mafft \\\n",
    "  --i-sequences rep-seqs.qza \\\n",
    "  --o-alignment aligned-rep-seqs.qza\n",
    "!qiime alignment mask \\\n",
    "  --i-alignment aligned-rep-seqs.qza \\\n",
    "  --o-masked-alignment masked-aligned-rep-seqs.qza"
   ]
  },
  {
   "cell_type": "code",
   "execution_count": 11,
   "metadata": {},
   "outputs": [
    {
     "name": "stdout",
     "output_type": "stream",
     "text": [
      "Building Tree\n",
      "\u001b[32mSaved Phylogeny[Unrooted] to: unrooted-tree.qza\u001b[0m\n",
      "\u001b[32mSaved Phylogeny[Rooted] to: rooted-tree.qza\u001b[0m\n"
     ]
    }
   ],
   "source": [
    "print(\"Building Tree\")\n",
    "!qiime phylogeny fasttree \\\n",
    "  --i-alignment masked-aligned-rep-seqs.qza \\\n",
    "  --o-tree unrooted-tree.qza\n",
    "!qiime phylogeny midpoint-root \\\n",
    "  --i-tree unrooted-tree.qza \\\n",
    "  --o-rooted-tree rooted-tree.qza"
   ]
  },
  {
   "cell_type": "code",
   "execution_count": 12,
   "metadata": {},
   "outputs": [
    {
     "name": "stdout",
     "output_type": "stream",
     "text": [
      "Alpha rarefaction\n",
      "\u001b[32mSaved Visualization to: alpha-rarefaction.qzv\u001b[0m\n"
     ]
    }
   ],
   "source": [
    "print(\"Alpha rarefaction\")\n",
    "#look at demux plot overview for pmax\n",
    "#use alpha rarefaction for determing rarefaction level\n",
    "!qiime diversity alpha-rarefaction \\\n",
    "  --i-table table.qza \\\n",
    "  --i-phylogeny rooted-tree.qza \\\n",
    "  --p-max-depth 40000 \\\n",
    "  --m-metadata-file HPMMMeta.txt \\\n",
    "  --o-visualization alpha-rarefaction.qzv"
   ]
  },
  {
   "cell_type": "code",
   "execution_count": 14,
   "metadata": {},
   "outputs": [
    {
     "name": "stdout",
     "output_type": "stream",
     "text": [
      "Classifying\n",
      "\u001b[31m\u001b[1mPlugin error from feature-classifier:\n",
      "\n",
      "\n",
      "\n",
      "Debug info has been saved to /tmp/qiime2-q2cli-err-p5yjm9y4.log\u001b[0m\n"
     ]
    }
   ],
   "source": [
    "print(\"Classifying\")\n",
    "!qiime feature-classifier classify-sklearn \\\n",
    "  --i-classifier silva-132-99-nb-classifier.qza \\\n",
    "  --i-reads rep-seqs.qza \\\n",
    "  --o-classification taxonomy.qza"
   ]
  },
  {
   "cell_type": "code",
   "execution_count": 15,
   "metadata": {},
   "outputs": [
    {
     "name": "stdout",
     "output_type": "stream",
     "text": [
      "\u001b[31m\u001b[1mThere was an issue with loading the file taxonomy.qza as metadata:\r\n",
      "\r\n",
      "  Metadata file path doesn't exist, or the path points to something other than a file. Please check that the path exists, has read permissions, and points to a regular file (not a directory): taxonomy.qza\r\n",
      "\r\n",
      "  There may be more errors present in the metadata file. To get a full report, sample/feature metadata files can be validated with Keemei: https://keemei.qiime2.org\r\n",
      "\r\n",
      "  Find details on QIIME 2 metadata requirements here: https://docs.qiime2.org/2018.8/tutorials/metadata/\u001b[0m\r\n",
      "\r\n"
     ]
    }
   ],
   "source": [
    "!qiime metadata tabulate \\\n",
    "  --m-input-file taxonomy.qza \\\n",
    "  --o-visualization taxonomy.qzv"
   ]
  },
  {
   "cell_type": "code",
   "execution_count": 16,
   "metadata": {},
   "outputs": [
    {
     "name": "stdout",
     "output_type": "stream",
     "text": [
      "Filter out mitochondria and chloroplast\n",
      "Usage: qiime taxa filter-table [OPTIONS]\n",
      "\n",
      "Error: Invalid value for \"--i-taxonomy\": Path \"taxonomy.qza\" does not exist.\n"
     ]
    }
   ],
   "source": [
    "print(\"Filter out mitochondria and chloroplast\")\n",
    "!qiime taxa filter-table \\\n",
    "  --i-table table.qza \\\n",
    "  --i-taxonomy taxonomy.qza \\\n",
    "  --p-exclude mitochondria,chloroplast \\\n",
    "  --o-filtered-table table.qza"
   ]
  },
  {
   "cell_type": "code",
   "execution_count": 22,
   "metadata": {},
   "outputs": [
    {
     "name": "stdout",
     "output_type": "stream",
     "text": [
      "Error: no such option: --output-dir\r\n"
     ]
    }
   ],
   "source": [
    "!qiime tools export \\\n",
    "  --input-path table.qza \\\n",
    "  --output-path exported "
   ]
  },
  {
   "cell_type": "code",
   "execution_count": 23,
   "metadata": {},
   "outputs": [
    {
     "name": "stdout",
     "output_type": "stream",
     "text": [
      "Error: no such option: --output-dir\r\n"
     ]
    }
   ],
   "source": [
    "!qiime tools export \\\n",
    "   --input-path taxonomy.qza \\\n",
    "   --output-path exported"
   ]
  },
  {
   "cell_type": "code",
   "execution_count": null,
   "metadata": {},
   "outputs": [],
   "source": [
    "#go into taxonomy.tsv and change headers: #OTUID taxonomy confidience "
   ]
  },
  {
   "cell_type": "code",
   "execution_count": 5,
   "metadata": {},
   "outputs": [],
   "source": [
    "!biom add-metadata -i exported/feature-table.biom -o table-with-taxonomy.biom --observation-metadata-fp exported/taxonomy.tsv --sc-separated taxonomy"
   ]
  }
 ],
 "metadata": {
  "kernelspec": {
   "display_name": "Python 3",
   "language": "python",
   "name": "python3"
  },
  "language_info": {
   "codemirror_mode": {
    "name": "ipython",
    "version": 3
   },
   "file_extension": ".py",
   "mimetype": "text/x-python",
   "name": "python",
   "nbconvert_exporter": "python",
   "pygments_lexer": "ipython3",
   "version": "3.6.5"
  }
 },
 "nbformat": 4,
 "nbformat_minor": 2
}
